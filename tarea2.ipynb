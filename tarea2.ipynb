{
 "cells": [
  {
   "cell_type": "markdown",
   "metadata": {},
   "source": [
    "## Tarea 2 Análisis de Datos\n",
    "### Outliers en cuarentenas\n",
    "#### Martín Marchant en colaboración con Manuel Muñoz"
   ]
  },
  {
   "cell_type": "code",
   "execution_count": 120,
   "metadata": {},
   "outputs": [],
   "source": [
    "import pandas as pd\n",
    "import seaborn as sns\n",
    "import matplotlib.pyplot as plt\n",
    "import numpy as np\n",
    "from statsmodels import robust\n",
    "%matplotlib inline"
   ]
  },
  {
   "cell_type": "code",
   "execution_count": 121,
   "metadata": {},
   "outputs": [],
   "source": [
    "casos = pd.read_csv(\"https://github.com/MinCiencia/Datos-COVID19/blob/master/output/producto1/Covid-19.csv?raw=true\", sep=',')"
   ]
  },
  {
   "cell_type": "code",
   "execution_count": 122,
   "metadata": {},
   "outputs": [
    {
     "data": {
      "text/html": [
       "<div>\n",
       "<style scoped>\n",
       "    .dataframe tbody tr th:only-of-type {\n",
       "        vertical-align: middle;\n",
       "    }\n",
       "\n",
       "    .dataframe tbody tr th {\n",
       "        vertical-align: top;\n",
       "    }\n",
       "\n",
       "    .dataframe thead th {\n",
       "        text-align: right;\n",
       "    }\n",
       "</style>\n",
       "<table border=\"1\" class=\"dataframe\">\n",
       "  <thead>\n",
       "    <tr style=\"text-align: right;\">\n",
       "      <th></th>\n",
       "      <th>Region</th>\n",
       "      <th>Codigo region</th>\n",
       "      <th>Comuna</th>\n",
       "      <th>Codigo comuna</th>\n",
       "      <th>Poblacion</th>\n",
       "      <th>2020-03-30</th>\n",
       "      <th>2020-04-01</th>\n",
       "      <th>2020-04-03</th>\n",
       "      <th>2020-04-06</th>\n",
       "      <th>2020-04-08</th>\n",
       "      <th>...</th>\n",
       "      <th>2021-11-01</th>\n",
       "      <th>2021-11-05</th>\n",
       "      <th>2021-11-08</th>\n",
       "      <th>2021-11-12</th>\n",
       "      <th>2021-11-15</th>\n",
       "      <th>2021-11-19</th>\n",
       "      <th>2021-11-22</th>\n",
       "      <th>2021-11-26</th>\n",
       "      <th>2021-11-29</th>\n",
       "      <th>Tasa</th>\n",
       "    </tr>\n",
       "  </thead>\n",
       "  <tbody>\n",
       "    <tr>\n",
       "      <th>108</th>\n",
       "      <td>Metropolitana</td>\n",
       "      <td>13</td>\n",
       "      <td>Las Condes</td>\n",
       "      <td>13114.0</td>\n",
       "      <td>330759.0</td>\n",
       "      <td>181.0</td>\n",
       "      <td>208.0</td>\n",
       "      <td>224.0</td>\n",
       "      <td>258.0</td>\n",
       "      <td>266.0</td>\n",
       "      <td>...</td>\n",
       "      <td>21238.0</td>\n",
       "      <td>21394.0</td>\n",
       "      <td>21589.0</td>\n",
       "      <td>21754.0</td>\n",
       "      <td>21847.0</td>\n",
       "      <td>21967.0</td>\n",
       "      <td>22028.0</td>\n",
       "      <td>22122.0</td>\n",
       "      <td>22160.0</td>\n",
       "      <td>6699.7</td>\n",
       "    </tr>\n",
       "  </tbody>\n",
       "</table>\n",
       "<p>1 rows × 183 columns</p>\n",
       "</div>"
      ],
      "text/plain": [
       "            Region  Codigo region      Comuna  Codigo comuna  Poblacion  \\\n",
       "108  Metropolitana             13  Las Condes        13114.0   330759.0   \n",
       "\n",
       "     2020-03-30  2020-04-01  2020-04-03  2020-04-06  2020-04-08  ...  \\\n",
       "108       181.0       208.0       224.0       258.0       266.0  ...   \n",
       "\n",
       "     2021-11-01  2021-11-05  2021-11-08  2021-11-12  2021-11-15  2021-11-19  \\\n",
       "108     21238.0     21394.0     21589.0     21754.0     21847.0     21967.0   \n",
       "\n",
       "     2021-11-22  2021-11-26  2021-11-29    Tasa  \n",
       "108     22028.0     22122.0     22160.0  6699.7  \n",
       "\n",
       "[1 rows x 183 columns]"
      ]
     },
     "execution_count": 122,
     "metadata": {},
     "output_type": "execute_result"
    }
   ],
   "source": [
    "casosLC = casos[casos[\"Comuna\"]== \"Las Condes\"] #filtrar por Las Condes\n",
    "casosLC.head()"
   ]
  },
  {
   "cell_type": "code",
   "execution_count": 123,
   "metadata": {},
   "outputs": [],
   "source": [
    "casos1 = casosLC.melt(id_vars=[\"Region\",\"Codigo region\", \"Comuna\",\"Codigo comuna\",\"Poblacion\", \"Tasa\"], var_name=\"Fecha\", value_name=\"Casos\") #dar vuelta las fechas"
   ]
  },
  {
   "cell_type": "code",
   "execution_count": 124,
   "metadata": {},
   "outputs": [],
   "source": [
    "casos1.drop('Codigo region', axis=1, inplace=True) #borrar columnas"
   ]
  },
  {
   "cell_type": "code",
   "execution_count": 125,
   "metadata": {},
   "outputs": [],
   "source": [
    "casos1.drop('Codigo comuna', axis=1, inplace=True)  #borrar columnas"
   ]
  },
  {
   "cell_type": "code",
   "execution_count": 126,
   "metadata": {},
   "outputs": [],
   "source": [
    "casos1.drop('Poblacion', axis=1, inplace=True) #borrar columnas"
   ]
  },
  {
   "cell_type": "code",
   "execution_count": 127,
   "metadata": {},
   "outputs": [],
   "source": [
    "casos1.drop('Tasa', axis=1, inplace=True) #borrar columnas"
   ]
  },
  {
   "cell_type": "code",
   "execution_count": 128,
   "metadata": {},
   "outputs": [],
   "source": [
    "casos1['Fecha'] = pd.to_datetime(casos1['Fecha']) #formato fecha"
   ]
  },
  {
   "cell_type": "code",
   "execution_count": 129,
   "metadata": {},
   "outputs": [],
   "source": [
    "casos2= casos1.groupby('Comuna').resample('W-Mon', on='Fecha').sum().reset_index().sort_values(by='Fecha') #Semanalmente"
   ]
  },
  {
   "cell_type": "code",
   "execution_count": 130,
   "metadata": {},
   "outputs": [
    {
     "data": {
      "text/html": [
       "<div>\n",
       "<style scoped>\n",
       "    .dataframe tbody tr th:only-of-type {\n",
       "        vertical-align: middle;\n",
       "    }\n",
       "\n",
       "    .dataframe tbody tr th {\n",
       "        vertical-align: top;\n",
       "    }\n",
       "\n",
       "    .dataframe thead th {\n",
       "        text-align: right;\n",
       "    }\n",
       "</style>\n",
       "<table border=\"1\" class=\"dataframe\">\n",
       "  <thead>\n",
       "    <tr style=\"text-align: right;\">\n",
       "      <th></th>\n",
       "      <th>Comuna</th>\n",
       "      <th>Fecha</th>\n",
       "      <th>Casos</th>\n",
       "    </tr>\n",
       "  </thead>\n",
       "  <tbody>\n",
       "    <tr>\n",
       "      <th>0</th>\n",
       "      <td>Las Condes</td>\n",
       "      <td>2020-03-30</td>\n",
       "      <td>181.0</td>\n",
       "    </tr>\n",
       "    <tr>\n",
       "      <th>1</th>\n",
       "      <td>Las Condes</td>\n",
       "      <td>2020-04-06</td>\n",
       "      <td>690.0</td>\n",
       "    </tr>\n",
       "    <tr>\n",
       "      <th>2</th>\n",
       "      <td>Las Condes</td>\n",
       "      <td>2020-04-13</td>\n",
       "      <td>843.0</td>\n",
       "    </tr>\n",
       "    <tr>\n",
       "      <th>3</th>\n",
       "      <td>Las Condes</td>\n",
       "      <td>2020-04-20</td>\n",
       "      <td>952.0</td>\n",
       "    </tr>\n",
       "    <tr>\n",
       "      <th>4</th>\n",
       "      <td>Las Condes</td>\n",
       "      <td>2020-04-27</td>\n",
       "      <td>701.0</td>\n",
       "    </tr>\n",
       "    <tr>\n",
       "      <th>...</th>\n",
       "      <td>...</td>\n",
       "      <td>...</td>\n",
       "      <td>...</td>\n",
       "    </tr>\n",
       "    <tr>\n",
       "      <th>83</th>\n",
       "      <td>Las Condes</td>\n",
       "      <td>2021-11-01</td>\n",
       "      <td>42342.0</td>\n",
       "    </tr>\n",
       "    <tr>\n",
       "      <th>84</th>\n",
       "      <td>Las Condes</td>\n",
       "      <td>2021-11-08</td>\n",
       "      <td>42983.0</td>\n",
       "    </tr>\n",
       "    <tr>\n",
       "      <th>85</th>\n",
       "      <td>Las Condes</td>\n",
       "      <td>2021-11-15</td>\n",
       "      <td>43601.0</td>\n",
       "    </tr>\n",
       "    <tr>\n",
       "      <th>86</th>\n",
       "      <td>Las Condes</td>\n",
       "      <td>2021-11-22</td>\n",
       "      <td>43995.0</td>\n",
       "    </tr>\n",
       "    <tr>\n",
       "      <th>87</th>\n",
       "      <td>Las Condes</td>\n",
       "      <td>2021-11-29</td>\n",
       "      <td>44282.0</td>\n",
       "    </tr>\n",
       "  </tbody>\n",
       "</table>\n",
       "<p>88 rows × 3 columns</p>\n",
       "</div>"
      ],
      "text/plain": [
       "        Comuna      Fecha    Casos\n",
       "0   Las Condes 2020-03-30    181.0\n",
       "1   Las Condes 2020-04-06    690.0\n",
       "2   Las Condes 2020-04-13    843.0\n",
       "3   Las Condes 2020-04-20    952.0\n",
       "4   Las Condes 2020-04-27    701.0\n",
       "..         ...        ...      ...\n",
       "83  Las Condes 2021-11-01  42342.0\n",
       "84  Las Condes 2021-11-08  42983.0\n",
       "85  Las Condes 2021-11-15  43601.0\n",
       "86  Las Condes 2021-11-22  43995.0\n",
       "87  Las Condes 2021-11-29  44282.0\n",
       "\n",
       "[88 rows x 3 columns]"
      ]
     },
     "execution_count": 130,
     "metadata": {},
     "output_type": "execute_result"
    }
   ],
   "source": [
    "casos2"
   ]
  },
  {
   "cell_type": "code",
   "execution_count": 131,
   "metadata": {},
   "outputs": [],
   "source": [
    "casos2[\"Casos_Sem\"] = casos2[\"Casos\"]-casos2[\"Casos\"].shift() #resta el valor anterior para que no se acumulen los casos"
   ]
  },
  {
   "cell_type": "code",
   "execution_count": 132,
   "metadata": {},
   "outputs": [
    {
     "data": {
      "text/html": [
       "<div>\n",
       "<style scoped>\n",
       "    .dataframe tbody tr th:only-of-type {\n",
       "        vertical-align: middle;\n",
       "    }\n",
       "\n",
       "    .dataframe tbody tr th {\n",
       "        vertical-align: top;\n",
       "    }\n",
       "\n",
       "    .dataframe thead th {\n",
       "        text-align: right;\n",
       "    }\n",
       "</style>\n",
       "<table border=\"1\" class=\"dataframe\">\n",
       "  <thead>\n",
       "    <tr style=\"text-align: right;\">\n",
       "      <th></th>\n",
       "      <th>Comuna</th>\n",
       "      <th>Fecha</th>\n",
       "      <th>Casos</th>\n",
       "      <th>Casos_Sem</th>\n",
       "    </tr>\n",
       "  </thead>\n",
       "  <tbody>\n",
       "    <tr>\n",
       "      <th>0</th>\n",
       "      <td>Las Condes</td>\n",
       "      <td>2020-03-30</td>\n",
       "      <td>181.0</td>\n",
       "      <td>NaN</td>\n",
       "    </tr>\n",
       "    <tr>\n",
       "      <th>1</th>\n",
       "      <td>Las Condes</td>\n",
       "      <td>2020-04-06</td>\n",
       "      <td>690.0</td>\n",
       "      <td>509.0</td>\n",
       "    </tr>\n",
       "    <tr>\n",
       "      <th>2</th>\n",
       "      <td>Las Condes</td>\n",
       "      <td>2020-04-13</td>\n",
       "      <td>843.0</td>\n",
       "      <td>153.0</td>\n",
       "    </tr>\n",
       "    <tr>\n",
       "      <th>3</th>\n",
       "      <td>Las Condes</td>\n",
       "      <td>2020-04-20</td>\n",
       "      <td>952.0</td>\n",
       "      <td>109.0</td>\n",
       "    </tr>\n",
       "    <tr>\n",
       "      <th>4</th>\n",
       "      <td>Las Condes</td>\n",
       "      <td>2020-04-27</td>\n",
       "      <td>701.0</td>\n",
       "      <td>-251.0</td>\n",
       "    </tr>\n",
       "    <tr>\n",
       "      <th>...</th>\n",
       "      <td>...</td>\n",
       "      <td>...</td>\n",
       "      <td>...</td>\n",
       "      <td>...</td>\n",
       "    </tr>\n",
       "    <tr>\n",
       "      <th>83</th>\n",
       "      <td>Las Condes</td>\n",
       "      <td>2021-11-01</td>\n",
       "      <td>42342.0</td>\n",
       "      <td>793.0</td>\n",
       "    </tr>\n",
       "    <tr>\n",
       "      <th>84</th>\n",
       "      <td>Las Condes</td>\n",
       "      <td>2021-11-08</td>\n",
       "      <td>42983.0</td>\n",
       "      <td>641.0</td>\n",
       "    </tr>\n",
       "    <tr>\n",
       "      <th>85</th>\n",
       "      <td>Las Condes</td>\n",
       "      <td>2021-11-15</td>\n",
       "      <td>43601.0</td>\n",
       "      <td>618.0</td>\n",
       "    </tr>\n",
       "    <tr>\n",
       "      <th>86</th>\n",
       "      <td>Las Condes</td>\n",
       "      <td>2021-11-22</td>\n",
       "      <td>43995.0</td>\n",
       "      <td>394.0</td>\n",
       "    </tr>\n",
       "    <tr>\n",
       "      <th>87</th>\n",
       "      <td>Las Condes</td>\n",
       "      <td>2021-11-29</td>\n",
       "      <td>44282.0</td>\n",
       "      <td>287.0</td>\n",
       "    </tr>\n",
       "  </tbody>\n",
       "</table>\n",
       "<p>88 rows × 4 columns</p>\n",
       "</div>"
      ],
      "text/plain": [
       "        Comuna      Fecha    Casos  Casos_Sem\n",
       "0   Las Condes 2020-03-30    181.0        NaN\n",
       "1   Las Condes 2020-04-06    690.0      509.0\n",
       "2   Las Condes 2020-04-13    843.0      153.0\n",
       "3   Las Condes 2020-04-20    952.0      109.0\n",
       "4   Las Condes 2020-04-27    701.0     -251.0\n",
       "..         ...        ...      ...        ...\n",
       "83  Las Condes 2021-11-01  42342.0      793.0\n",
       "84  Las Condes 2021-11-08  42983.0      641.0\n",
       "85  Las Condes 2021-11-15  43601.0      618.0\n",
       "86  Las Condes 2021-11-22  43995.0      394.0\n",
       "87  Las Condes 2021-11-29  44282.0      287.0\n",
       "\n",
       "[88 rows x 4 columns]"
      ]
     },
     "execution_count": 132,
     "metadata": {},
     "output_type": "execute_result"
    }
   ],
   "source": [
    "casos2"
   ]
  },
  {
   "cell_type": "code",
   "execution_count": 133,
   "metadata": {},
   "outputs": [],
   "source": [
    "casos3 = casos2[casos2[\"Casos_Sem\"] > 0].reset_index() #sacar negativos\n",
    "casos3.drop('index', axis=1, inplace=True)"
   ]
  },
  {
   "cell_type": "code",
   "execution_count": 134,
   "metadata": {},
   "outputs": [
    {
     "data": {
      "text/html": [
       "<div>\n",
       "<style scoped>\n",
       "    .dataframe tbody tr th:only-of-type {\n",
       "        vertical-align: middle;\n",
       "    }\n",
       "\n",
       "    .dataframe tbody tr th {\n",
       "        vertical-align: top;\n",
       "    }\n",
       "\n",
       "    .dataframe thead th {\n",
       "        text-align: right;\n",
       "    }\n",
       "</style>\n",
       "<table border=\"1\" class=\"dataframe\">\n",
       "  <thead>\n",
       "    <tr style=\"text-align: right;\">\n",
       "      <th></th>\n",
       "      <th>Comuna</th>\n",
       "      <th>Fecha</th>\n",
       "      <th>Casos_Sem</th>\n",
       "    </tr>\n",
       "  </thead>\n",
       "  <tbody>\n",
       "    <tr>\n",
       "      <th>0</th>\n",
       "      <td>Las Condes</td>\n",
       "      <td>2020-04-06</td>\n",
       "      <td>509.0</td>\n",
       "    </tr>\n",
       "    <tr>\n",
       "      <th>1</th>\n",
       "      <td>Las Condes</td>\n",
       "      <td>2020-04-13</td>\n",
       "      <td>153.0</td>\n",
       "    </tr>\n",
       "    <tr>\n",
       "      <th>2</th>\n",
       "      <td>Las Condes</td>\n",
       "      <td>2020-04-20</td>\n",
       "      <td>109.0</td>\n",
       "    </tr>\n",
       "    <tr>\n",
       "      <th>3</th>\n",
       "      <td>Las Condes</td>\n",
       "      <td>2020-05-04</td>\n",
       "      <td>185.0</td>\n",
       "    </tr>\n",
       "    <tr>\n",
       "      <th>4</th>\n",
       "      <td>Las Condes</td>\n",
       "      <td>2020-05-11</td>\n",
       "      <td>478.0</td>\n",
       "    </tr>\n",
       "    <tr>\n",
       "      <th>...</th>\n",
       "      <td>...</td>\n",
       "      <td>...</td>\n",
       "      <td>...</td>\n",
       "    </tr>\n",
       "    <tr>\n",
       "      <th>80</th>\n",
       "      <td>Las Condes</td>\n",
       "      <td>2021-11-01</td>\n",
       "      <td>793.0</td>\n",
       "    </tr>\n",
       "    <tr>\n",
       "      <th>81</th>\n",
       "      <td>Las Condes</td>\n",
       "      <td>2021-11-08</td>\n",
       "      <td>641.0</td>\n",
       "    </tr>\n",
       "    <tr>\n",
       "      <th>82</th>\n",
       "      <td>Las Condes</td>\n",
       "      <td>2021-11-15</td>\n",
       "      <td>618.0</td>\n",
       "    </tr>\n",
       "    <tr>\n",
       "      <th>83</th>\n",
       "      <td>Las Condes</td>\n",
       "      <td>2021-11-22</td>\n",
       "      <td>394.0</td>\n",
       "    </tr>\n",
       "    <tr>\n",
       "      <th>84</th>\n",
       "      <td>Las Condes</td>\n",
       "      <td>2021-11-29</td>\n",
       "      <td>287.0</td>\n",
       "    </tr>\n",
       "  </tbody>\n",
       "</table>\n",
       "<p>85 rows × 3 columns</p>\n",
       "</div>"
      ],
      "text/plain": [
       "        Comuna      Fecha  Casos_Sem\n",
       "0   Las Condes 2020-04-06      509.0\n",
       "1   Las Condes 2020-04-13      153.0\n",
       "2   Las Condes 2020-04-20      109.0\n",
       "3   Las Condes 2020-05-04      185.0\n",
       "4   Las Condes 2020-05-11      478.0\n",
       "..         ...        ...        ...\n",
       "80  Las Condes 2021-11-01      793.0\n",
       "81  Las Condes 2021-11-08      641.0\n",
       "82  Las Condes 2021-11-15      618.0\n",
       "83  Las Condes 2021-11-22      394.0\n",
       "84  Las Condes 2021-11-29      287.0\n",
       "\n",
       "[85 rows x 3 columns]"
      ]
     },
     "execution_count": 134,
     "metadata": {},
     "output_type": "execute_result"
    }
   ],
   "source": [
    "casos3.drop('Casos', axis=1, inplace=True) #borrar columna casos\n",
    "casos3"
   ]
  },
  {
   "cell_type": "code",
   "execution_count": 135,
   "metadata": {},
   "outputs": [
    {
     "data": {
      "text/plain": [
       "<AxesSubplot:xlabel='Fecha', ylabel='Casos_Sem'>"
      ]
     },
     "execution_count": 135,
     "metadata": {},
     "output_type": "execute_result"
    },
    {
     "data": {
      "image/png": "[encoded data removed]",
      "text/plain": [
       "<Figure size 432x288 with 1 Axes>"
      ]
     },
     "metadata": {
      "needs_background": "light"
     },
     "output_type": "display_data"
    }
   ],
   "source": [
    "sns.boxplot(x=\"Fecha\", y=\"Casos_Sem\", data=casos3)"
   ]
  },
  {
   "cell_type": "code",
   "execution_count": 136,
   "metadata": {},
   "outputs": [
    {
     "data": {
      "text/plain": [
       "<AxesSubplot:xlabel='Fecha', ylabel='Casos_Sem'>"
      ]
     },
     "execution_count": 136,
     "metadata": {},
     "output_type": "execute_result"
    },
    {
     "data": {
      "image/png": "[encoded data removed]",
      "text/plain": [
       "<Figure size 432x288 with 1 Axes>"
      ]
     },
     "metadata": {
      "needs_background": "light"
     },
     "output_type": "display_data"
    }
   ],
   "source": [
    "sns.barplot(x=\"Fecha\", y=\"Casos_Sem\", data=casos3)"
   ]
  },
  {
   "cell_type": "code",
   "execution_count": 137,
   "metadata": {},
   "outputs": [
    {
     "data": {
      "image/png": "[encoded data removed]",
      "text/plain": [
       "<Figure size 432x288 with 1 Axes>"
      ]
     },
     "metadata": {
      "needs_background": "light"
     },
     "output_type": "display_data"
    }
   ],
   "source": [
    "OutliersLC = casos3.boxplot(column = [\"Casos_Sem\"])"
   ]
  },
  {
   "cell_type": "code",
   "execution_count": 138,
   "metadata": {},
   "outputs": [
    {
     "data": {
      "text/html": [
       "<div>\n",
       "<style scoped>\n",
       "    .dataframe tbody tr th:only-of-type {\n",
       "        vertical-align: middle;\n",
       "    }\n",
       "\n",
       "    .dataframe tbody tr th {\n",
       "        vertical-align: top;\n",
       "    }\n",
       "\n",
       "    .dataframe thead th {\n",
       "        text-align: right;\n",
       "    }\n",
       "</style>\n",
       "<table border=\"1\" class=\"dataframe\">\n",
       "  <thead>\n",
       "    <tr style=\"text-align: right;\">\n",
       "      <th></th>\n",
       "      <th>Comuna</th>\n",
       "      <th>Fecha</th>\n",
       "      <th>Casos_Sem</th>\n",
       "    </tr>\n",
       "  </thead>\n",
       "  <tbody>\n",
       "    <tr>\n",
       "      <th>7</th>\n",
       "      <td>Las Condes</td>\n",
       "      <td>2020-06-01</td>\n",
       "      <td>1373.0</td>\n",
       "    </tr>\n",
       "    <tr>\n",
       "      <th>10</th>\n",
       "      <td>Las Condes</td>\n",
       "      <td>2020-06-29</td>\n",
       "      <td>5033.0</td>\n",
       "    </tr>\n",
       "    <tr>\n",
       "      <th>60</th>\n",
       "      <td>Las Condes</td>\n",
       "      <td>2021-06-14</td>\n",
       "      <td>1352.0</td>\n",
       "    </tr>\n",
       "  </tbody>\n",
       "</table>\n",
       "</div>"
      ],
      "text/plain": [
       "        Comuna      Fecha  Casos_Sem\n",
       "7   Las Condes 2020-06-01     1373.0\n",
       "10  Las Condes 2020-06-29     5033.0\n",
       "60  Las Condes 2021-06-14     1352.0"
      ]
     },
     "execution_count": 138,
     "metadata": {},
     "output_type": "execute_result"
    }
   ],
   "source": [
    "Outliers_Las_Condes= casos3[casos3[\"Casos_Sem\"]> 1350]\n",
    "Outliers_Las_Condes"
   ]
  },
  {
   "cell_type": "code",
   "execution_count": 139,
   "metadata": {},
   "outputs": [
    {
     "data": {
      "text/plain": [
       "<AxesSubplot:xlabel='Fecha', ylabel='Casos_Sem'>"
      ]
     },
     "execution_count": 139,
     "metadata": {},
     "output_type": "execute_result"
    },
    {
     "data": {
      "image/png": "[encoded data removed]",
      "text/plain": [
       "<Figure size 432x288 with 1 Axes>"
      ]
     },
     "metadata": {
      "needs_background": "light"
     },
     "output_type": "display_data"
    }
   ],
   "source": [
    "sns.boxplot(x=\"Fecha\", y=\"Casos_Sem\", data=Outliers_Las_Condes)"
   ]
  },
  {
   "cell_type": "markdown",
   "metadata": {},
   "source": [
    "En la tabla\"Outliers_Las_Condes\" se muestran los outliers para Las Condes junto con gráficos.\n",
    "Se consideraron como outliers las semanas con igual o más de 1350 casos en Las Condes."
   ]
  },
  {
   "cell_type": "code",
   "execution_count": null,
   "metadata": {},
   "outputs": [],
   "source": []
  },
  {
   "cell_type": "code",
   "execution_count": null,
   "metadata": {},
   "outputs": [],
   "source": []
  }
 ],
 "metadata": {
  "kernelspec": {
   "display_name": "Python 3",
   "language": "python",
   "name": "python3"
  },
  "language_info": {
   "codemirror_mode": {
    "name": "ipython",
    "version": 3
   },
   "file_extension": ".py",
   "mimetype": "text/x-python",
   "name": "python",
   "nbconvert_exporter": "python",
   "pygments_lexer": "ipython3",
   "version": "3.8.8"
  }
 },
 "nbformat": 4,
 "nbformat_minor": 4
}
